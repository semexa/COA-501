{
 "cells": [
  {
   "cell_type": "code",
   "execution_count": null,
   "id": "fd96066a",
   "metadata": {},
   "outputs": [],
   "source": [
    "#importando las librerias\n",
    "import cv2\n",
    "import os # nos sirve para leer los diferentes archivos o imagenes"
   ]
  },
  {
   "cell_type": "code",
   "execution_count": null,
   "id": "802803e1",
   "metadata": {},
   "outputs": [],
   "source": [
    "# colocar el pad de la carpeta\n",
    "input_images_path = \"c:/Users/Gaby/Desktop/Leer_varias_imagenes/input_images\"\n",
    "files_names = os.listdir(input_images_path) # lista de todos los archivos que estan en el pad\n",
    "print(files_names) # imprimir la lista de los nombres de los elementos que estan en el pad"
   ]
  },
  {
   "cell_type": "code",
   "execution_count": null,
   "id": "8a67137a",
   "metadata": {},
   "outputs": [],
   "source": [
    "output_images_path = \"C:/Users/Gaby/Desktop,Leer_varias_imagenes/output_images\"\n",
    "if not os.path(output_images_path):\n",
    "    os.makedirs(output_images_path)\n",
    "    print(\"Directorio creado: \", output_images_path)\n"
   ]
  },
  {
   "cell_type": "code",
   "execution_count": null,
   "id": "fb5efbae",
   "metadata": {},
   "outputs": [],
   "source": [
    "# va a ir imprimiedo el nombre de cada uno de las imagenes\n",
    "\n",
    "count = 0\n",
    "for file_name in files_names:\n",
    "    print(file_name)\n",
    "    if file_name.split(\".\")[-1] not in [\"jpeg\", \"png\"]:\n",
    "        continue\n",
    "    image_path = input_images_path + \"/\" + file_name\n",
    "    print(image_path)\n",
    "    image = cv2.imread(image_path)\n",
    "    if image is None:\n",
    "        continue\n",
    "    image = cv2.cvtColor(image,cv2.COLOR_BGR2GRAY) # convertir a escala de grises\n",
    "    image = cv2.resize(image, (100, 100), interpolation = cv2.INTER_CUBIC) # redimencionar\n",
    "    \n",
    "    cv2.imwrite(output_images_path + \"/image\" + str(count) + \".jpg\", image)\n",
    "    count += 1\n",
    "    \n",
    "    cv2.imshow(\"Image\", image)\n",
    "    cv2.waitKey(0)\n",
    "cv2.destroyvAllWindows()"
   ]
  },
  {
   "cell_type": "code",
   "execution_count": null,
   "id": "1207d119",
   "metadata": {},
   "outputs": [],
   "source": []
  }
 ],
 "metadata": {
  "kernelspec": {
   "display_name": "Python 3 (ipykernel)",
   "language": "python",
   "name": "python3"
  },
  "language_info": {
   "codemirror_mode": {
    "name": "ipython",
    "version": 3
   },
   "file_extension": ".py",
   "mimetype": "text/x-python",
   "name": "python",
   "nbconvert_exporter": "python",
   "pygments_lexer": "ipython3",
   "version": "3.9.13"
  }
 },
 "nbformat": 4,
 "nbformat_minor": 5
}
